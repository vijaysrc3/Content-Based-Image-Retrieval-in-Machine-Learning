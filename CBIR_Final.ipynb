{
  "nbformat": 4,
  "nbformat_minor": 0,
  "metadata": {
    "colab": {
      "name": "CBIR_Final.ipynb",
      "provenance": [],
      "collapsed_sections": []
    },
    "kernelspec": {
      "name": "python3",
      "display_name": "Python 3"
    },
    "language_info": {
      "name": "python"
    }
  },
  "cells": [
    {
      "cell_type": "code",
      "metadata": {
        "colab": {
          "base_uri": "https://localhost:8080/"
        },
        "id": "Mlm4pXrVObav",
        "outputId": "f4541a74-0bb1-4475-a23c-2868ca4371a3"
      },
      "source": [
        "from google.colab import drive\n",
        "drive.mount('/content/drive', force_remount=True)"
      ],
      "execution_count": 46,
      "outputs": [
        {
          "output_type": "stream",
          "name": "stdout",
          "text": [
            "Mounted at /content/drive\n"
          ]
        }
      ]
    },
    {
      "cell_type": "code",
      "metadata": {
        "colab": {
          "base_uri": "https://localhost:8080/"
        },
        "id": "Jn5eDY6PQn6K",
        "outputId": "d5383684-9e17-4b4d-8b93-ec7f7a35aaa1"
      },
      "source": [
        "!ls \"/content/drive/My Drive/CBIR\""
      ],
      "execution_count": 47,
      "outputs": [
        {
          "output_type": "stream",
          "name": "stdout",
          "text": [
            "database\t\t     featureCNN2.h5    query_online2.py\n",
            "DATABASE.zip\t\t     featureCNN.h5     query_online.py\n",
            "DB_FINAL\t\t     index1.py\t       README.md\n",
            "extract_cnn_vgg16_keras1.py  index.py\t       TEST_DB_FINAL\n",
            "extract_cnn_vgg16_keras.py   __pycache__\n",
            "featureCNN1.h5\t\t     query_online1.py\n"
          ]
        }
      ]
    },
    {
      "cell_type": "code",
      "metadata": {
        "colab": {
          "base_uri": "https://localhost:8080/"
        },
        "id": "Jmg0Xf_4Qx8O",
        "outputId": "7270b39d-bc14-4bdc-9b18-3d3b4418c0fd"
      },
      "source": [
        "#Extracting Features\n",
        "!python3 \"/content/drive/My Drive/CBIR/index.py\" -database \"/content/drive/My Drive/CBIR/DB_FINAL\" -index \"/content/drive/My Drive/CBIR/featureCNN.h5\""
      ],
      "execution_count": 50,
      "outputs": [
        {
          "output_type": "stream",
          "name": "stdout",
          "text": [
            "--------------------------------------------------\n",
            "         feature extraction starts\n",
            "--------------------------------------------------\n",
            "2021-12-10 01:13:38.700718: E tensorflow/stream_executor/cuda/cuda_driver.cc:271] failed call to cuInit: CUDA_ERROR_NO_DEVICE: no CUDA-capable device is detected\n",
            "extracting feature from image No. 1 , 195 images in total\n",
            "extracting feature from image No. 2 , 195 images in total\n",
            "extracting feature from image No. 3 , 195 images in total\n",
            "extracting feature from image No. 4 , 195 images in total\n",
            "extracting feature from image No. 5 , 195 images in total\n",
            "extracting feature from image No. 6 , 195 images in total\n",
            "extracting feature from image No. 7 , 195 images in total\n",
            "extracting feature from image No. 8 , 195 images in total\n",
            "extracting feature from image No. 9 , 195 images in total\n",
            "extracting feature from image No. 10 , 195 images in total\n",
            "extracting feature from image No. 11 , 195 images in total\n",
            "extracting feature from image No. 12 , 195 images in total\n",
            "extracting feature from image No. 13 , 195 images in total\n",
            "extracting feature from image No. 14 , 195 images in total\n",
            "extracting feature from image No. 15 , 195 images in total\n",
            "extracting feature from image No. 16 , 195 images in total\n",
            "extracting feature from image No. 17 , 195 images in total\n",
            "extracting feature from image No. 18 , 195 images in total\n",
            "extracting feature from image No. 19 , 195 images in total\n",
            "extracting feature from image No. 20 , 195 images in total\n",
            "extracting feature from image No. 21 , 195 images in total\n",
            "extracting feature from image No. 22 , 195 images in total\n",
            "extracting feature from image No. 23 , 195 images in total\n",
            "extracting feature from image No. 24 , 195 images in total\n",
            "extracting feature from image No. 25 , 195 images in total\n",
            "extracting feature from image No. 26 , 195 images in total\n",
            "extracting feature from image No. 27 , 195 images in total\n",
            "extracting feature from image No. 28 , 195 images in total\n",
            "extracting feature from image No. 29 , 195 images in total\n",
            "extracting feature from image No. 30 , 195 images in total\n",
            "extracting feature from image No. 31 , 195 images in total\n",
            "extracting feature from image No. 32 , 195 images in total\n",
            "extracting feature from image No. 33 , 195 images in total\n",
            "extracting feature from image No. 34 , 195 images in total\n",
            "extracting feature from image No. 35 , 195 images in total\n",
            "extracting feature from image No. 36 , 195 images in total\n",
            "extracting feature from image No. 37 , 195 images in total\n",
            "extracting feature from image No. 38 , 195 images in total\n",
            "extracting feature from image No. 39 , 195 images in total\n",
            "extracting feature from image No. 40 , 195 images in total\n",
            "extracting feature from image No. 41 , 195 images in total\n",
            "extracting feature from image No. 42 , 195 images in total\n",
            "extracting feature from image No. 43 , 195 images in total\n",
            "extracting feature from image No. 44 , 195 images in total\n",
            "extracting feature from image No. 45 , 195 images in total\n",
            "extracting feature from image No. 46 , 195 images in total\n",
            "extracting feature from image No. 47 , 195 images in total\n",
            "extracting feature from image No. 48 , 195 images in total\n",
            "extracting feature from image No. 49 , 195 images in total\n",
            "extracting feature from image No. 50 , 195 images in total\n",
            "extracting feature from image No. 51 , 195 images in total\n",
            "extracting feature from image No. 52 , 195 images in total\n",
            "extracting feature from image No. 53 , 195 images in total\n",
            "extracting feature from image No. 54 , 195 images in total\n",
            "extracting feature from image No. 55 , 195 images in total\n",
            "extracting feature from image No. 56 , 195 images in total\n",
            "extracting feature from image No. 57 , 195 images in total\n",
            "extracting feature from image No. 58 , 195 images in total\n",
            "extracting feature from image No. 59 , 195 images in total\n",
            "extracting feature from image No. 60 , 195 images in total\n",
            "extracting feature from image No. 61 , 195 images in total\n",
            "extracting feature from image No. 62 , 195 images in total\n",
            "extracting feature from image No. 63 , 195 images in total\n",
            "extracting feature from image No. 64 , 195 images in total\n",
            "extracting feature from image No. 65 , 195 images in total\n",
            "extracting feature from image No. 66 , 195 images in total\n",
            "extracting feature from image No. 67 , 195 images in total\n",
            "extracting feature from image No. 68 , 195 images in total\n",
            "extracting feature from image No. 69 , 195 images in total\n",
            "extracting feature from image No. 70 , 195 images in total\n",
            "extracting feature from image No. 71 , 195 images in total\n",
            "extracting feature from image No. 72 , 195 images in total\n",
            "extracting feature from image No. 73 , 195 images in total\n",
            "extracting feature from image No. 74 , 195 images in total\n",
            "extracting feature from image No. 75 , 195 images in total\n",
            "extracting feature from image No. 76 , 195 images in total\n",
            "extracting feature from image No. 77 , 195 images in total\n",
            "extracting feature from image No. 78 , 195 images in total\n",
            "extracting feature from image No. 79 , 195 images in total\n",
            "extracting feature from image No. 80 , 195 images in total\n",
            "extracting feature from image No. 81 , 195 images in total\n",
            "extracting feature from image No. 82 , 195 images in total\n",
            "extracting feature from image No. 83 , 195 images in total\n",
            "extracting feature from image No. 84 , 195 images in total\n",
            "extracting feature from image No. 85 , 195 images in total\n",
            "extracting feature from image No. 86 , 195 images in total\n",
            "extracting feature from image No. 87 , 195 images in total\n",
            "extracting feature from image No. 88 , 195 images in total\n",
            "extracting feature from image No. 89 , 195 images in total\n",
            "extracting feature from image No. 90 , 195 images in total\n",
            "extracting feature from image No. 91 , 195 images in total\n",
            "extracting feature from image No. 92 , 195 images in total\n",
            "extracting feature from image No. 93 , 195 images in total\n",
            "extracting feature from image No. 94 , 195 images in total\n",
            "extracting feature from image No. 95 , 195 images in total\n",
            "extracting feature from image No. 96 , 195 images in total\n",
            "extracting feature from image No. 97 , 195 images in total\n",
            "extracting feature from image No. 98 , 195 images in total\n",
            "extracting feature from image No. 99 , 195 images in total\n",
            "extracting feature from image No. 100 , 195 images in total\n",
            "extracting feature from image No. 101 , 195 images in total\n",
            "extracting feature from image No. 102 , 195 images in total\n",
            "extracting feature from image No. 103 , 195 images in total\n",
            "extracting feature from image No. 104 , 195 images in total\n",
            "extracting feature from image No. 105 , 195 images in total\n",
            "extracting feature from image No. 106 , 195 images in total\n",
            "extracting feature from image No. 107 , 195 images in total\n",
            "extracting feature from image No. 108 , 195 images in total\n",
            "extracting feature from image No. 109 , 195 images in total\n",
            "extracting feature from image No. 110 , 195 images in total\n",
            "extracting feature from image No. 111 , 195 images in total\n",
            "extracting feature from image No. 112 , 195 images in total\n",
            "extracting feature from image No. 113 , 195 images in total\n",
            "extracting feature from image No. 114 , 195 images in total\n",
            "extracting feature from image No. 115 , 195 images in total\n",
            "extracting feature from image No. 116 , 195 images in total\n",
            "extracting feature from image No. 117 , 195 images in total\n",
            "extracting feature from image No. 118 , 195 images in total\n",
            "extracting feature from image No. 119 , 195 images in total\n",
            "extracting feature from image No. 120 , 195 images in total\n",
            "extracting feature from image No. 121 , 195 images in total\n",
            "extracting feature from image No. 122 , 195 images in total\n",
            "extracting feature from image No. 123 , 195 images in total\n",
            "extracting feature from image No. 124 , 195 images in total\n",
            "extracting feature from image No. 125 , 195 images in total\n",
            "extracting feature from image No. 126 , 195 images in total\n",
            "extracting feature from image No. 127 , 195 images in total\n",
            "extracting feature from image No. 128 , 195 images in total\n",
            "extracting feature from image No. 129 , 195 images in total\n",
            "extracting feature from image No. 130 , 195 images in total\n",
            "extracting feature from image No. 131 , 195 images in total\n",
            "extracting feature from image No. 132 , 195 images in total\n",
            "extracting feature from image No. 133 , 195 images in total\n",
            "extracting feature from image No. 134 , 195 images in total\n",
            "extracting feature from image No. 135 , 195 images in total\n",
            "extracting feature from image No. 136 , 195 images in total\n",
            "extracting feature from image No. 137 , 195 images in total\n",
            "extracting feature from image No. 138 , 195 images in total\n",
            "extracting feature from image No. 139 , 195 images in total\n",
            "extracting feature from image No. 140 , 195 images in total\n",
            "extracting feature from image No. 141 , 195 images in total\n",
            "extracting feature from image No. 142 , 195 images in total\n",
            "extracting feature from image No. 143 , 195 images in total\n",
            "extracting feature from image No. 144 , 195 images in total\n",
            "extracting feature from image No. 145 , 195 images in total\n",
            "extracting feature from image No. 146 , 195 images in total\n",
            "extracting feature from image No. 147 , 195 images in total\n",
            "extracting feature from image No. 148 , 195 images in total\n",
            "extracting feature from image No. 149 , 195 images in total\n",
            "extracting feature from image No. 150 , 195 images in total\n",
            "extracting feature from image No. 151 , 195 images in total\n",
            "extracting feature from image No. 152 , 195 images in total\n",
            "extracting feature from image No. 153 , 195 images in total\n",
            "extracting feature from image No. 154 , 195 images in total\n",
            "extracting feature from image No. 155 , 195 images in total\n",
            "extracting feature from image No. 156 , 195 images in total\n",
            "extracting feature from image No. 157 , 195 images in total\n",
            "extracting feature from image No. 158 , 195 images in total\n",
            "extracting feature from image No. 159 , 195 images in total\n",
            "extracting feature from image No. 160 , 195 images in total\n",
            "extracting feature from image No. 161 , 195 images in total\n",
            "extracting feature from image No. 162 , 195 images in total\n",
            "extracting feature from image No. 163 , 195 images in total\n",
            "extracting feature from image No. 164 , 195 images in total\n",
            "extracting feature from image No. 165 , 195 images in total\n",
            "extracting feature from image No. 166 , 195 images in total\n",
            "extracting feature from image No. 167 , 195 images in total\n",
            "extracting feature from image No. 168 , 195 images in total\n",
            "extracting feature from image No. 169 , 195 images in total\n",
            "extracting feature from image No. 170 , 195 images in total\n",
            "extracting feature from image No. 171 , 195 images in total\n",
            "extracting feature from image No. 172 , 195 images in total\n",
            "extracting feature from image No. 173 , 195 images in total\n",
            "extracting feature from image No. 174 , 195 images in total\n",
            "extracting feature from image No. 175 , 195 images in total\n",
            "extracting feature from image No. 176 , 195 images in total\n",
            "extracting feature from image No. 177 , 195 images in total\n",
            "extracting feature from image No. 178 , 195 images in total\n",
            "extracting feature from image No. 179 , 195 images in total\n",
            "extracting feature from image No. 180 , 195 images in total\n",
            "extracting feature from image No. 181 , 195 images in total\n",
            "extracting feature from image No. 182 , 195 images in total\n",
            "extracting feature from image No. 183 , 195 images in total\n",
            "extracting feature from image No. 184 , 195 images in total\n",
            "extracting feature from image No. 185 , 195 images in total\n",
            "extracting feature from image No. 186 , 195 images in total\n",
            "extracting feature from image No. 187 , 195 images in total\n",
            "extracting feature from image No. 188 , 195 images in total\n",
            "extracting feature from image No. 189 , 195 images in total\n",
            "extracting feature from image No. 190 , 195 images in total\n",
            "extracting feature from image No. 191 , 195 images in total\n",
            "extracting feature from image No. 192 , 195 images in total\n",
            "extracting feature from image No. 193 , 195 images in total\n",
            "extracting feature from image No. 194 , 195 images in total\n",
            "extracting feature from image No. 195 , 195 images in total\n",
            "--------------------------------------------------\n",
            "      writing feature extraction results ...\n",
            "--------------------------------------------------\n"
          ]
        }
      ]
    },
    {
      "cell_type": "code",
      "metadata": {
        "id": "1PWX7WbHRpXl"
      },
      "source": [
        "#!ls \"/content/drive/My Drive/CBIR/TEST_DB_FINAL\""
      ],
      "execution_count": 53,
      "outputs": []
    },
    {
      "cell_type": "code",
      "metadata": {
        "colab": {
          "base_uri": "https://localhost:8080/"
        },
        "id": "K0ztrnnKQx9v",
        "outputId": "25a76633-4772-4a0e-954f-24e2073f565b"
      },
      "source": [
        "!python3 \"/content/drive/My Drive/CBIR/query_online.py\" -query \"/content/drive/My Drive/CBIR/TEST_DB_FINAL/pigeon_1.jpg\" -index \"/content/drive/My Drive/CBIR/featureCNN1.h5\" -result \"/content/drive/My Drive/CBIR/DB_FINAL\""
      ],
      "execution_count": 54,
      "outputs": [
        {
          "output_type": "stream",
          "name": "stdout",
          "text": [
            "--------------------------------------------------\n",
            "               searching starts\n",
            "--------------------------------------------------\n",
            "<Figure size 640x480 with 1 Axes>\n",
            "2021-12-10 01:17:26.773398: E tensorflow/stream_executor/cuda/cuda_driver.cc:271] failed call to cuInit: CUDA_ERROR_NO_DEVICE: no CUDA-capable device is detected\n",
            "top 3 images in order are:  ['pigeon_5.jpg', 'pigeon_4.jpg', 'pigeon_9.jpg']\n"
          ]
        }
      ]
    },
    {
      "cell_type": "code",
      "source": [
        ""
      ],
      "metadata": {
        "id": "sXxWsY-YPKXo"
      },
      "execution_count": null,
      "outputs": []
    }
  ]
}